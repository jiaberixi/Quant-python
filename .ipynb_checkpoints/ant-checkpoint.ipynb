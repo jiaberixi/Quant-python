{
 "cells": [
  {
   "cell_type": "markdown",
   "metadata": {},
   "source": [
    "#Hyper-ants:ants traveling in hyperspace"
   ]
  },
  {
   "cell_type": "markdown",
   "metadata": {},
   "source": [
    "An ant is at the origin in n-dimensional Euclidean space, and is about to traverse the edges of a hypercube with sides of unit length. At each vertex, the ant randomly chooses an edge, and moves to the next vertex. On average, how far will the ant travel until it reaches (1,1,...,1)"
   ]
  },
  {
   "cell_type": "code",
   "execution_count": 25,
   "metadata": {},
   "outputs": [
    {
     "data": {
      "text/plain": [
       "{4: 918,\n",
       " 6: 899,\n",
       " 8: 842,\n",
       " 10: 720,\n",
       " 12: 666,\n",
       " 14: 634,\n",
       " 16: 570,\n",
       " 18: 492,\n",
       " 20: 419,\n",
       " 22: 410,\n",
       " 24: 383,\n",
       " 26: 297,\n",
       " 28: 306,\n",
       " 30: 236,\n",
       " 32: 215,\n",
       " 34: 211,\n",
       " 36: 176,\n",
       " 38: 150,\n",
       " 40: 150,\n",
       " 42: 138,\n",
       " 44: 131,\n",
       " 46: 98,\n",
       " 48: 111,\n",
       " 50: 87,\n",
       " 52: 85,\n",
       " 54: 64,\n",
       " 56: 58,\n",
       " 58: 65,\n",
       " 60: 41,\n",
       " 62: 55,\n",
       " 64: 39,\n",
       " 66: 34,\n",
       " 68: 27,\n",
       " 70: 29,\n",
       " 72: 30,\n",
       " 74: 24,\n",
       " 76: 26,\n",
       " 78: 21,\n",
       " 80: 23,\n",
       " 82: 11,\n",
       " 84: 11,\n",
       " 86: 15,\n",
       " 88: 10,\n",
       " 90: 6,\n",
       " 92: 4,\n",
       " 94: 11,\n",
       " 96: 4,\n",
       " 98: 4,\n",
       " 100: 4,\n",
       " 102: 4,\n",
       " 104: 3,\n",
       " 106: 2,\n",
       " 108: 1,\n",
       " 110: 3,\n",
       " 112: 5,\n",
       " 114: 1,\n",
       " 116: 1,\n",
       " 118: 1,\n",
       " 120: 1,\n",
       " 122: 1,\n",
       " 124: 4,\n",
       " 126: 2,\n",
       " 128: 1,\n",
       " 132: 1,\n",
       " 134: 1,\n",
       " 138: 1,\n",
       " 140: 1,\n",
       " 146: 1,\n",
       " 150: 1,\n",
       " 166: 1,\n",
       " 174: 1,\n",
       " 176: 1,\n",
       " 206: 1}"
      ]
     },
     "execution_count": 25,
     "metadata": {},
     "output_type": "execute_result"
    }
   ],
   "source": [
    "from random import randint\n",
    "\n",
    "def sum_workaround(vertex):\n",
    "    sum_=0\n",
    "    for coordinate in vertex:\n",
    "        sum_+=coordinate\n",
    "    return sum_\n",
    "\n",
    "def number_of_moves(dimension):\n",
    "    #return the number of moves needed for\n",
    "    #one simulated trip by the ant\n",
    "    vertex = [0]*dimension\n",
    "    move_count=0\n",
    "    while sum(vertex) < dimension:\n",
    "        axis_choice = randint(0,dimension - 1)\n",
    "#        if vertex[axis_choice] == 0\n",
    "#           vertex[axis_choice] == 1\n",
    "#        else\n",
    "#           vertex[axis_choice]== 0\n",
    "        vertex[axis_choice] = 1- vertex[axis_choice]\n",
    "        move_count += 1\n",
    "    return move_count\n",
    "            \n",
    "number_of_trials = 10000\n",
    "trials=[number_of_moves(4) for i in range(number_of_trials)]\n",
    "#initialize dictionary to count frequancy of number of moves\n",
    "number_moves_count = {trial:0 for trial in trials}\n",
    "\n",
    "for trial in trials:\n",
    "    number_moves_count[trial] +=1\n",
    "number_moves_count\n",
    "#sum([number_of_moves(3) for i in range(number_of_trials)])/number_of_trials\n",
    "#for i in range(number_of_trials):   "
   ]
  },
  {
   "cell_type": "code",
   "execution_count": null,
   "metadata": {
    "collapsed": true
   },
   "outputs": [],
   "source": []
  }
 ],
 "metadata": {
  "kernelspec": {
   "display_name": "Python 3",
   "language": "python",
   "name": "python3"
  },
  "language_info": {
   "codemirror_mode": {
    "name": "ipython",
    "version": 3
   },
   "file_extension": ".py",
   "mimetype": "text/x-python",
   "name": "python",
   "nbconvert_exporter": "python",
   "pygments_lexer": "ipython3",
   "version": "3.6.1"
  }
 },
 "nbformat": 4,
 "nbformat_minor": 2
}

{
 "cells": [
  {
   "cell_type": "markdown",
   "metadata": {},
   "source": [
    "#Hyper-ants:ants traveling in hyperspace"
   ]
  },
  {
   "cell_type": "markdown",
   "metadata": {},
   "source": [
    "An ant is at the origin in n-dimensional Euclidean space, and is about to traverse the edges of a hypercube with sides of unit length. At each vertex, the ant randomly chooses an edge, and moves to the next vertex. On average, how far will the ant travel until it reaches (1,1,...,1)"
   ]
  },
  {
   "cell_type": "code",
   "execution_count": 2,
   "metadata": {},
   "outputs": [
    {
     "name": "stdout",
     "output_type": "stream",
     "text": [
      "20.886\n"
     ]
    },
    {
     "data": {
      "text/plain": [
       "{4: 945,\n",
       " 6: 916,\n",
       " 8: 879,\n",
       " 10: 763,\n",
       " 12: 712,\n",
       " 14: 583,\n",
       " 16: 581,\n",
       " 18: 471,\n",
       " 20: 447,\n",
       " 22: 425,\n",
       " 24: 350,\n",
       " 26: 318,\n",
       " 28: 281,\n",
       " 30: 251,\n",
       " 32: 244,\n",
       " 34: 197,\n",
       " 36: 162,\n",
       " 38: 161,\n",
       " 40: 152,\n",
       " 42: 137,\n",
       " 44: 117,\n",
       " 46: 99,\n",
       " 48: 80,\n",
       " 50: 87,\n",
       " 52: 72,\n",
       " 54: 70,\n",
       " 56: 51,\n",
       " 58: 51,\n",
       " 60: 41,\n",
       " 62: 43,\n",
       " 64: 38,\n",
       " 66: 26,\n",
       " 68: 29,\n",
       " 70: 21,\n",
       " 72: 21,\n",
       " 74: 16,\n",
       " 76: 12,\n",
       " 78: 13,\n",
       " 80: 15,\n",
       " 82: 10,\n",
       " 84: 10,\n",
       " 86: 7,\n",
       " 88: 9,\n",
       " 90: 13,\n",
       " 92: 8,\n",
       " 94: 10,\n",
       " 96: 7,\n",
       " 98: 7,\n",
       " 100: 4,\n",
       " 102: 9,\n",
       " 104: 3,\n",
       " 106: 5,\n",
       " 108: 1,\n",
       " 110: 3,\n",
       " 112: 3,\n",
       " 114: 1,\n",
       " 116: 1,\n",
       " 118: 2,\n",
       " 120: 1,\n",
       " 126: 3,\n",
       " 128: 1,\n",
       " 132: 1,\n",
       " 136: 1,\n",
       " 150: 1,\n",
       " 156: 1,\n",
       " 170: 1}"
      ]
     },
     "execution_count": 2,
     "metadata": {},
     "output_type": "execute_result"
    }
   ],
   "source": [
    "from random import randint\n",
    "\n",
    "\n",
    "def number_of_moves(dimension):\n",
    "    #return the number of moves needed for\n",
    "    #one simulated trip by the ant\n",
    "    vertex = [0]*dimension\n",
    "    move_count=0\n",
    "    while sum(vertex) < dimension:\n",
    "        axis_choice = randint(0,dimension - 1)\n",
    "#        if vertex[axis_choice] == 0\n",
    "#           vertex[axis_choice] == 1\n",
    "#        else\n",
    "#           vertex[axis_choice]== 0\n",
    "        vertex[axis_choice] = 1- vertex[axis_choice]\n",
    "        move_count += 1\n",
    "    return move_count\n",
    "            \n",
    "number_of_trials = 10000\n",
    "trials=[number_of_moves(4) for i in range(number_of_trials)]\n",
    "\n",
    "print(sum(trials)/number_of_trials)\n",
    "\n",
    "#initialize dictionary to count frequancy of number of moves\n",
    "number_moves_count = {trial:0 for trial in trials}\n",
    "\n",
    "for trial in trials:\n",
    "    number_moves_count[trial] +=1\n",
    "number_moves_count\n",
    "#sum([number_of_moves(3) for i in range(number_of_trials)])/number_of_trials\n",
    "#for i in range(number_of_trials):   "
   ]
  },
  {
   "cell_type": "code",
   "execution_count": null,
   "metadata": {
    "collapsed": true
   },
   "outputs": [],
   "source": []
  }
 ],
 "metadata": {
  "kernelspec": {
   "display_name": "Python 3",
   "language": "python",
   "name": "python3"
  },
  "language_info": {
   "codemirror_mode": {
    "name": "ipython",
    "version": 3
   },
   "file_extension": ".py",
   "mimetype": "text/x-python",
   "name": "python",
   "nbconvert_exporter": "python",
   "pygments_lexer": "ipython3",
   "version": "3.6.1"
  }
 },
 "nbformat": 4,
 "nbformat_minor": 2
}
